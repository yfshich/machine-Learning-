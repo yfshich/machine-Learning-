import Initialization #初始化方法
import keras
from keras.layers import Activation, Dropout, Dense
from keras.layers import Input, Lambda
from keras.models import Model



domain_adaptation_task = '40HP_to_20HP'   
# let's run the experiments when 1 target sample per calss is available in training.
# you can run the experiments for sample_per_class=1, ... , 7.
# sample_per_class = 1
# Running the experiments for repetition 5. In the paper we reported the average acuracy.
# We run the experiments for repetition=0,...,9 and take the average
# repetition = 2
# Creating embedding function. This corresponds to the function g in the paper.
# You may need to change the network parameters.
model1=Initialization.Create_Model()
# size of signal 1024*1
img_rows, img_cols = 1024, 1
input_shape = (img_rows, img_cols)
input_a = Input(shape=input_shape)
input_b = Input(shape=input_shape)
# number of classes for digits classification
nb_classes = 4
# Loss = (1-alpha)Classification_Loss + (alpha)CSA
alpha = .25
# Having two streams. One for source and one for target.
processed_a = model1(input_a)
processed_b = model1(input_b)
# Creating the prediction function. This corresponds to h in the paper.
out1 = Dropout(0.25)(processed_a)
out1 = Dense(nb_classes)(out1)
out1 = Activation('softmax', name='classification')(out1)
# print(processed_a.shape)
# print(processed_b.shape)




distance = Lambda(Initialization.euclidean_distance, 
                  output_shape=Initialization.eucl_dist_output_shape, name='CSA')(
                [processed_a, processed_b])
# print(distance.shape)
model = Model(inputs=[input_a, input_b], outputs=[out1, distance])
model.compile(loss={'classification': 'categorical_crossentropy', 'CSA': Initialization.contrastive_loss},
              optimizer='adam',
              loss_weights={'classification': 1 - alpha, 'CSA': alpha})
print('Domain Adaptation Task: ' + domain_adaptation_task)








# let's create the positive and negative pairs using row data.
# pairs will be saved in ./pairs directory
# sample_per_class=1
for repetition in range(10):
    Initialization.Create_Pairs()
    Acc=Initialization.training_the_model(model)
    print('Best accuracy is {:.2f}.'.format(Acc))
